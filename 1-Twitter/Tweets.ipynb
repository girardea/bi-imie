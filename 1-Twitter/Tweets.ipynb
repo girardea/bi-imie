{
 "cells": [
  {
   "cell_type": "markdown",
   "metadata": {},
   "source": [
    "# Import des tweets"
   ]
  },
  {
   "cell_type": "markdown",
   "metadata": {},
   "source": [
    "Cet exercice nécessite d'avoir des clés pour accéder à l'API de Twitter. Il suffit de se créer un compte et de copier-coller ces infos dans le fichier twee_dumper.py du même répertoire que ce classeur."
   ]
  },
  {
   "cell_type": "code",
   "execution_count": 1,
   "metadata": {
    "collapsed": false
   },
   "outputs": [
    {
     "name": "stdout",
     "output_type": "stream",
     "text": [
      "getting tweets before 798597342563860479\n",
      "...400 tweets downloaded so far\n",
      "getting tweets before 796429834742177791\n",
      "...600 tweets downloaded so far\n",
      "getting tweets before 793718295916601343\n",
      "...800 tweets downloaded so far\n",
      "getting tweets before 786973241013305343\n",
      "...1000 tweets downloaded so far\n",
      "getting tweets before 784459988391628799\n",
      "...1200 tweets downloaded so far\n",
      "getting tweets before 779005836614045697\n",
      "...1400 tweets downloaded so far\n",
      "getting tweets before 772700031681896447\n",
      "...1600 tweets downloaded so far\n",
      "getting tweets before 758220927930728447\n",
      "...1799 tweets downloaded so far\n",
      "getting tweets before 745266466694430719\n",
      "...1999 tweets downloaded so far\n",
      "getting tweets before 735539247592148992\n",
      "...2199 tweets downloaded so far\n",
      "getting tweets before 715071731631841279\n",
      "...2399 tweets downloaded so far\n",
      "getting tweets before 695365638370381827\n",
      "...2599 tweets downloaded so far\n",
      "getting tweets before 671998194398662656\n",
      "...2799 tweets downloaded so far\n",
      "getting tweets before 663006470179561474\n",
      "...2997 tweets downloaded so far\n",
      "getting tweets before 652181601032511488\n",
      "...3195 tweets downloaded so far\n",
      "getting tweets before 617250691971698687\n",
      "...3199 tweets downloaded so far\n",
      "getting tweets before 616667125432877056\n",
      "...3199 tweets downloaded so far\n"
     ]
    }
   ],
   "source": [
    "from tweet_dumper import get_all_tweets\n",
    "\n",
    "account = \"NicolasSarkozy\"\n",
    "\n",
    "tweets = get_all_tweets(account)"
   ]
  },
  {
   "cell_type": "markdown",
   "metadata": {},
   "source": [
    "Regardons ce que l'on récupère."
   ]
  },
  {
   "cell_type": "code",
   "execution_count": 2,
   "metadata": {
    "collapsed": false
   },
   "outputs": [
    {
     "data": {
      "text/plain": [
       "list"
      ]
     },
     "execution_count": 2,
     "metadata": {},
     "output_type": "execute_result"
    }
   ],
   "source": [
    "type(tweets)"
   ]
  },
  {
   "cell_type": "markdown",
   "metadata": {},
   "source": [
    "Il s'agit d'une liste (sans doute une liste de tweets). Regardons le premier élément."
   ]
  },
  {
   "cell_type": "code",
   "execution_count": 3,
   "metadata": {
    "collapsed": false
   },
   "outputs": [
    {
     "data": {
      "text/plain": [
       "['869259637136162817',\n",
       " datetime.datetime(2017, 5, 29, 18, 30, 22),\n",
       " 'RT @ProjetAladin: @NicolasSarkozy: \"Je suis venu célébrer les 10ans du @ProjetAladin dont je partage les principes\" contre l\\'#extremisme &amp;…']"
      ]
     },
     "execution_count": 3,
     "metadata": {},
     "output_type": "execute_result"
    }
   ],
   "source": [
    "tweets[1]"
   ]
  },
  {
   "cell_type": "markdown",
   "metadata": {},
   "source": [
    "Effectivement, nous avons affaire à une liste de liste. Pour chaque tweet, nous avons un ID, une date/heure et le message lui-même.\n",
    "\n",
    "Chargeons cela dans le format de données adapté : comme souvent c'est un DataFrame."
   ]
  },
  {
   "cell_type": "code",
   "execution_count": 4,
   "metadata": {
    "collapsed": false
   },
   "outputs": [
    {
     "data": {
      "text/html": [
       "<div>\n",
       "<table border=\"1\" class=\"dataframe\">\n",
       "  <thead>\n",
       "    <tr style=\"text-align: right;\">\n",
       "      <th></th>\n",
       "      <th>id</th>\n",
       "      <th>date</th>\n",
       "      <th>text</th>\n",
       "    </tr>\n",
       "  </thead>\n",
       "  <tbody>\n",
       "    <tr>\n",
       "      <th>0</th>\n",
       "      <td>870594068405006336</td>\n",
       "      <td>2017-06-02 10:52:55</td>\n",
       "      <td>Bravo à @Thom_astro qui nous a montré la Terre...</td>\n",
       "    </tr>\n",
       "    <tr>\n",
       "      <th>1</th>\n",
       "      <td>869259637136162817</td>\n",
       "      <td>2017-05-29 18:30:22</td>\n",
       "      <td>RT @ProjetAladin: @NicolasSarkozy: \"Je suis ve...</td>\n",
       "    </tr>\n",
       "    <tr>\n",
       "      <th>2</th>\n",
       "      <td>868555879297277952</td>\n",
       "      <td>2017-05-27 19:53:53</td>\n",
       "      <td>Honte à ceux qui, en profanant la tombe du Gén...</td>\n",
       "    </tr>\n",
       "    <tr>\n",
       "      <th>3</th>\n",
       "      <td>868120888343920640</td>\n",
       "      <td>2017-05-26 15:05:23</td>\n",
       "      <td>Merci à @francoisbaroin pour ce beau moment pa...</td>\n",
       "    </tr>\n",
       "    <tr>\n",
       "      <th>4</th>\n",
       "      <td>867846156440801281</td>\n",
       "      <td>2017-05-25 20:53:42</td>\n",
       "      <td>RT @VeroniqueWache: Victoire ! 2-1 #aufinish h...</td>\n",
       "    </tr>\n",
       "  </tbody>\n",
       "</table>\n",
       "</div>"
      ],
      "text/plain": [
       "                   id                date  \\\n",
       "0  870594068405006336 2017-06-02 10:52:55   \n",
       "1  869259637136162817 2017-05-29 18:30:22   \n",
       "2  868555879297277952 2017-05-27 19:53:53   \n",
       "3  868120888343920640 2017-05-26 15:05:23   \n",
       "4  867846156440801281 2017-05-25 20:53:42   \n",
       "\n",
       "                                                text  \n",
       "0  Bravo à @Thom_astro qui nous a montré la Terre...  \n",
       "1  RT @ProjetAladin: @NicolasSarkozy: \"Je suis ve...  \n",
       "2  Honte à ceux qui, en profanant la tombe du Gén...  \n",
       "3  Merci à @francoisbaroin pour ce beau moment pa...  \n",
       "4  RT @VeroniqueWache: Victoire ! 2-1 #aufinish h...  "
      ]
     },
     "execution_count": 4,
     "metadata": {},
     "output_type": "execute_result"
    }
   ],
   "source": [
    "import pandas as pd\n",
    "import numpy as np\n",
    "import datetime as dt\n",
    "\n",
    "df = pd.DataFrame(tweets, columns=['id', 'date', 'text'])\n",
    "\n",
    "df.head()"
   ]
  },
  {
   "cell_type": "markdown",
   "metadata": {},
   "source": [
    "C'est déjà plus propre !"
   ]
  },
  {
   "cell_type": "markdown",
   "metadata": {},
   "source": [
    "## Nombre moyen de tweets par jour"
   ]
  },
  {
   "cell_type": "markdown",
   "metadata": {},
   "source": [
    "Nous nous créons une fonction qui analyse le fil Twitter que nous venons de récupérer. Combien de tweets chaque jour ? Dont combien de RT ?"
   ]
  },
  {
   "cell_type": "code",
   "execution_count": 5,
   "metadata": {
    "collapsed": true
   },
   "outputs": [],
   "source": [
    "def analyse_fil(df):\n",
    "    nb_tweets_par_jour = df.shape[0] / (df['date'].max() - df['date'].min()).days\n",
    "    print(str(nb_tweets_par_jour) + ' tweets par jour.')\n",
    "    \n",
    "    condition = df['text'].str.contains('RT ')\n",
    "    dft = df[condition]\n",
    "    \n",
    "    print(str(100 * dft.shape[0] / df.shape[0]) + '% de RT.')\n",
    "    \n",
    "    return "
   ]
  },
  {
   "cell_type": "code",
   "execution_count": 6,
   "metadata": {
    "collapsed": false
   },
   "outputs": [
    {
     "name": "stdout",
     "output_type": "stream",
     "text": [
      "4.57 tweets par jour.\n",
      "26.695842450765863% de RT.\n"
     ]
    }
   ],
   "source": [
    "analyse_fil(df)"
   ]
  },
  {
   "cell_type": "markdown",
   "metadata": {},
   "source": [
    "## Taux de vocabulaire"
   ]
  },
  {
   "cell_type": "markdown",
   "metadata": {},
   "source": [
    "Comme nous avons tant de messages à notre disposition, nous pouvons évaluer le nombre de mots différents employés par le tweetos en question.\n",
    "\n",
    "Pour cela, nous devons enlever tous les caractères spéciaux, ainsi que les mots courts (tels que \"et\", \"de\", \"le\", etc.)."
   ]
  },
  {
   "cell_type": "code",
   "execution_count": 7,
   "metadata": {
    "collapsed": false
   },
   "outputs": [
    {
     "data": {
      "text/plain": [
       "5046"
      ]
     },
     "execution_count": 7,
     "metadata": {},
     "output_type": "execute_result"
    }
   ],
   "source": [
    "def myparse(cell):\n",
    "    # On vire les ponctuations\n",
    "    liste_ponctuation = [':', ';', ',', '.', '?', '!', '(', ')']\n",
    "    for elem in liste_ponctuation:\n",
    "        cell = cell.replace(elem, '')\n",
    "    \n",
    "    cell = cell.replace('  ', ' ')\n",
    "    \n",
    "    # On vire les #, les @ et les /\n",
    "    mylist = cell.split(' ')\n",
    "    mylist = [elem.lower() for elem in mylist if \"#\" not in elem and \"@\" not in elem and \"/\" not in elem]\n",
    "    \n",
    "    return mylist\n",
    "\n",
    "# On applique notre fonction de parse\n",
    "df['split'] = df['text'].apply(myparse)\n",
    "\n",
    "# On construit un dictionnaire mots --> occurences\n",
    "mondict = {}\n",
    "for cell in df[np.logical_not(df['text'].str.contains('RT '))]['split']:\n",
    "    for word in cell:\n",
    "        if word in mondict:\n",
    "            mondict[word] += 1\n",
    "        else:\n",
    "            mondict[word] = 1\n",
    "\n",
    "# On le transforme en DataFrame\n",
    "df_mots = pd.DataFrame.from_dict(mondict, orient = 'index')\n",
    "df_mots.columns = ['Occurences']\n",
    "df_mots = df_mots.sort_values('Occurences', ascending = False)\n",
    "\n",
    "# On filtre sur les mots de plus de \"tant\" de caractères\n",
    "df_mots[df_mots.index.str.len() > 3].shape[0]"
   ]
  },
  {
   "cell_type": "markdown",
   "metadata": {},
   "source": [
    "## Allons plus loin sur les dates"
   ]
  },
  {
   "cell_type": "markdown",
   "metadata": {},
   "source": [
    "Nous n'avons pas besoin de l'ID du tweet ; jetons-le. En revanche, nous allons indexer notre DataFrame par la date de publication. Cela facilitera les manipulations."
   ]
  },
  {
   "cell_type": "code",
   "execution_count": 8,
   "metadata": {
    "collapsed": false
   },
   "outputs": [
    {
     "name": "stdout",
     "output_type": "stream",
     "text": [
      "<class 'pandas.core.frame.DataFrame'>\n",
      "DatetimeIndex: 3199 entries, 2017-06-02 10:52:55 to 2015-07-02 17:57:54\n",
      "Data columns (total 2 columns):\n",
      "text     3199 non-null object\n",
      "split    3199 non-null object\n",
      "dtypes: object(2)\n",
      "memory usage: 75.0+ KB\n"
     ]
    },
    {
     "data": {
      "text/html": [
       "<div>\n",
       "<table border=\"1\" class=\"dataframe\">\n",
       "  <thead>\n",
       "    <tr style=\"text-align: right;\">\n",
       "      <th></th>\n",
       "      <th>text</th>\n",
       "      <th>split</th>\n",
       "    </tr>\n",
       "    <tr>\n",
       "      <th>date</th>\n",
       "      <th></th>\n",
       "      <th></th>\n",
       "    </tr>\n",
       "  </thead>\n",
       "  <tbody>\n",
       "    <tr>\n",
       "      <th>2017-06-02 10:52:55</th>\n",
       "      <td>Bravo à @Thom_astro qui nous a montré la Terre...</td>\n",
       "      <td>[bravo, à, qui, nous, a, montré, la, terre, co...</td>\n",
       "    </tr>\n",
       "    <tr>\n",
       "      <th>2017-05-29 18:30:22</th>\n",
       "      <td>RT @ProjetAladin: @NicolasSarkozy: \"Je suis ve...</td>\n",
       "      <td>[rt, \"je, suis, venu, célébrer, les, 10ans, du...</td>\n",
       "    </tr>\n",
       "    <tr>\n",
       "      <th>2017-05-27 19:53:53</th>\n",
       "      <td>Honte à ceux qui, en profanant la tombe du Gén...</td>\n",
       "      <td>[honte, à, ceux, qui, en, profanant, la, tombe...</td>\n",
       "    </tr>\n",
       "    <tr>\n",
       "      <th>2017-05-26 15:05:23</th>\n",
       "      <td>Merci à @francoisbaroin pour ce beau moment pa...</td>\n",
       "      <td>[merci, à, pour, ce, beau, moment, passé, hier...</td>\n",
       "    </tr>\n",
       "    <tr>\n",
       "      <th>2017-05-25 20:53:42</th>\n",
       "      <td>RT @VeroniqueWache: Victoire ! 2-1 #aufinish h...</td>\n",
       "      <td>[rt, victoire, 2-1]</td>\n",
       "    </tr>\n",
       "  </tbody>\n",
       "</table>\n",
       "</div>"
      ],
      "text/plain": [
       "                                                                  text  \\\n",
       "date                                                                     \n",
       "2017-06-02 10:52:55  Bravo à @Thom_astro qui nous a montré la Terre...   \n",
       "2017-05-29 18:30:22  RT @ProjetAladin: @NicolasSarkozy: \"Je suis ve...   \n",
       "2017-05-27 19:53:53  Honte à ceux qui, en profanant la tombe du Gén...   \n",
       "2017-05-26 15:05:23  Merci à @francoisbaroin pour ce beau moment pa...   \n",
       "2017-05-25 20:53:42  RT @VeroniqueWache: Victoire ! 2-1 #aufinish h...   \n",
       "\n",
       "                                                                 split  \n",
       "date                                                                    \n",
       "2017-06-02 10:52:55  [bravo, à, qui, nous, a, montré, la, terre, co...  \n",
       "2017-05-29 18:30:22  [rt, \"je, suis, venu, célébrer, les, 10ans, du...  \n",
       "2017-05-27 19:53:53  [honte, à, ceux, qui, en, profanant, la, tombe...  \n",
       "2017-05-26 15:05:23  [merci, à, pour, ce, beau, moment, passé, hier...  \n",
       "2017-05-25 20:53:42                                [rt, victoire, 2-1]  "
      ]
     },
     "execution_count": 8,
     "metadata": {},
     "output_type": "execute_result"
    }
   ],
   "source": [
    "df = df.drop('id', axis='columns')\n",
    "df = df.set_index('date')\n",
    "\n",
    "df.info()\n",
    "\n",
    "df.head()"
   ]
  },
  {
   "cell_type": "markdown",
   "metadata": {},
   "source": [
    "Maintenant, pour accéder aux tweets de 2016, il suffit de taper :"
   ]
  },
  {
   "cell_type": "code",
   "execution_count": 9,
   "metadata": {
    "collapsed": false
   },
   "outputs": [
    {
     "data": {
      "text/html": [
       "<div>\n",
       "<table border=\"1\" class=\"dataframe\">\n",
       "  <thead>\n",
       "    <tr style=\"text-align: right;\">\n",
       "      <th></th>\n",
       "      <th>text</th>\n",
       "      <th>split</th>\n",
       "    </tr>\n",
       "    <tr>\n",
       "      <th>date</th>\n",
       "      <th></th>\n",
       "      <th></th>\n",
       "    </tr>\n",
       "  </thead>\n",
       "  <tbody>\n",
       "    <tr>\n",
       "      <th>2016-11-27 19:45:47</th>\n",
       "      <td>Retrouvez ma déclaration suite à la victoire d...</td>\n",
       "      <td>[retrouvez, ma, déclaration, suite, à, la, vic...</td>\n",
       "    </tr>\n",
       "    <tr>\n",
       "      <th>2016-11-20 21:32:23</th>\n",
       "      <td>Je souhaite le meilleur pour mon pays et pour ...</td>\n",
       "      <td>[je, souhaite, le, meilleur, pour, mon, pays, ...</td>\n",
       "    </tr>\n",
       "    <tr>\n",
       "      <th>2016-11-18 21:24:55</th>\n",
       "      <td>La France mérite qu'on lui donne tout. Merci d...</td>\n",
       "      <td>[la, france, mérite, qu'on, lui, donne, tout, ...</td>\n",
       "    </tr>\n",
       "    <tr>\n",
       "      <th>2016-11-18 20:40:04</th>\n",
       "      <td>Le bonheur de la vie est dans les épreuves sur...</td>\n",
       "      <td>[le, bonheur, de, la, vie, est, dans, les, épr...</td>\n",
       "    </tr>\n",
       "    <tr>\n",
       "      <th>2016-11-18 18:57:18</th>\n",
       "      <td>La victoire est belle parce qu'elle est diffic...</td>\n",
       "      <td>[la, victoire, est, belle, parce, qu'elle, est...</td>\n",
       "    </tr>\n",
       "  </tbody>\n",
       "</table>\n",
       "</div>"
      ],
      "text/plain": [
       "                                                                  text  \\\n",
       "date                                                                     \n",
       "2016-11-27 19:45:47  Retrouvez ma déclaration suite à la victoire d...   \n",
       "2016-11-20 21:32:23  Je souhaite le meilleur pour mon pays et pour ...   \n",
       "2016-11-18 21:24:55  La France mérite qu'on lui donne tout. Merci d...   \n",
       "2016-11-18 20:40:04  Le bonheur de la vie est dans les épreuves sur...   \n",
       "2016-11-18 18:57:18  La victoire est belle parce qu'elle est diffic...   \n",
       "\n",
       "                                                                 split  \n",
       "date                                                                    \n",
       "2016-11-27 19:45:47  [retrouvez, ma, déclaration, suite, à, la, vic...  \n",
       "2016-11-20 21:32:23  [je, souhaite, le, meilleur, pour, mon, pays, ...  \n",
       "2016-11-18 21:24:55  [la, france, mérite, qu'on, lui, donne, tout, ...  \n",
       "2016-11-18 20:40:04  [le, bonheur, de, la, vie, est, dans, les, épr...  \n",
       "2016-11-18 18:57:18  [la, victoire, est, belle, parce, qu'elle, est...  "
      ]
     },
     "execution_count": 9,
     "metadata": {},
     "output_type": "execute_result"
    }
   ],
   "source": [
    "df['2016'].head()"
   ]
  },
  {
   "cell_type": "markdown",
   "metadata": {},
   "source": [
    "Pour afficher le nombre de tweets par jour, nous utiliserons la fonction resample(), qui permet d'aggréger des séries temporelles par jour, semaine, etc."
   ]
  },
  {
   "cell_type": "code",
   "execution_count": 15,
   "metadata": {
    "collapsed": false
   },
   "outputs": [
    {
     "data": {
      "image/png": "[encoded data removed]",
      "text/plain": [
       "<matplotlib.figure.Figure at 0x191e1b8b6a0>"
      ]
     },
     "metadata": {},
     "output_type": "display_data"
    }
   ],
   "source": [
    "import matplotlib.pyplot as plt\n",
    "\n",
    "df.resample('D').count()['text'].plot(kind='area')\n",
    "#df.resample('D').count()['text'].rolling(window=30).mean().plot(kind='line')\n",
    "\n",
    "plt.title(\"Nombre de tweets de @\" + account + \" chaque jour\")\n",
    "plt.ylabel(\"# tweets\")\n",
    "\n",
    "plt.show()"
   ]
  },
  {
   "cell_type": "markdown",
   "metadata": {},
   "source": [
    "Si on veut le même indicateur, fonction du jour de la semaine, c'est un peu plus compliqué. Nous utiliserons un groupby() (comme en SQL)."
   ]
  },
  {
   "cell_type": "code",
   "execution_count": 16,
   "metadata": {
    "collapsed": false
   },
   "outputs": [
    {
     "data": {
      "image/png": "[encoded data removed]",
      "text/plain": [
       "<matplotlib.figure.Figure at 0x191e1b8b518>"
      ]
     },
     "metadata": {},
     "output_type": "display_data"
    }
   ],
   "source": [
    "df['HOD'] = df.index.hour\n",
    "\n",
    "df.groupby(by='HOD')['text'].count().plot(kind='bar')\n",
    "\n",
    "plt.title(\"Tweets postés par @\" + account)\n",
    "plt.ylabel('# tweets')\n",
    "plt.xlabel(\"Heure de la journée\")\n",
    "plt.show()"
   ]
  }
 ],
 "metadata": {
  "kernelspec": {
   "display_name": "Python 3",
   "language": "python",
   "name": "python3"
  },
  "language_info": {
   "codemirror_mode": {
    "name": "ipython",
    "version": 3
   },
   "file_extension": ".py",
   "mimetype": "text/x-python",
   "name": "python",
   "nbconvert_exporter": "python",
   "pygments_lexer": "ipython3",
   "version": "3.6.0"
  }
 },
 "nbformat": 4,
 "nbformat_minor": 2
}
