{
 "cells": [
  {
   "cell_type": "markdown",
   "metadata": {},
   "source": [
    "# Import des modules"
   ]
  },
  {
   "cell_type": "code",
   "execution_count": 1,
   "metadata": {
    "collapsed": true
   },
   "outputs": [],
   "source": [
    "import pandas as pd\n",
    "import numpy as np\n",
    "import matplotlib.pyplot as plt"
   ]
  },
  {
   "cell_type": "markdown",
   "metadata": {},
   "source": [
    "J'ouvre le fichier qui a comme séparateur une tabulation."
   ]
  },
  {
   "cell_type": "code",
   "execution_count": 2,
   "metadata": {
    "collapsed": false
   },
   "outputs": [
    {
     "name": "stdout",
     "output_type": "stream",
     "text": [
      "<class 'pandas.core.frame.DataFrame'>\n",
      "RangeIndex: 622 entries, 0 to 621\n",
      "Data columns (total 14 columns):\n",
      "Name           622 non-null object\n",
      "Survived       622 non-null object\n",
      "Boarded        622 non-null object\n",
      "Class          622 non-null object\n",
      "MWC            622 non-null object\n",
      "Age            622 non-null float64\n",
      "Adult/Child    622 non-null object\n",
      "Sex            622 non-null object\n",
      "Paid           375 non-null float64\n",
      "Ticket#        361 non-null object\n",
      "Boat [Body]    248 non-null object\n",
      "Job            430 non-null object\n",
      "Class.Dept     606 non-null object\n",
      "Class.Full     621 non-null object\n",
      "dtypes: float64(2), object(12)\n",
      "memory usage: 68.1+ KB\n"
     ]
    }
   ],
   "source": [
    "df = pd.read_csv('Titanic.txt', sep='\\t')\n",
    "\n",
    "df.info()"
   ]
  },
  {
   "cell_type": "code",
   "execution_count": 3,
   "metadata": {
    "collapsed": false
   },
   "outputs": [
    {
     "data": {
      "text/html": [
       "<div>\n",
       "<table border=\"1\" class=\"dataframe\">\n",
       "  <thead>\n",
       "    <tr style=\"text-align: right;\">\n",
       "      <th></th>\n",
       "      <th>Name</th>\n",
       "      <th>Survived</th>\n",
       "      <th>Boarded</th>\n",
       "      <th>Class</th>\n",
       "      <th>MWC</th>\n",
       "      <th>Age</th>\n",
       "      <th>Adult/Child</th>\n",
       "      <th>Sex</th>\n",
       "      <th>Paid</th>\n",
       "      <th>Ticket#</th>\n",
       "      <th>Boat [Body]</th>\n",
       "      <th>Job</th>\n",
       "      <th>Class.Dept</th>\n",
       "      <th>Class.Full</th>\n",
       "    </tr>\n",
       "  </thead>\n",
       "  <tbody>\n",
       "    <tr>\n",
       "      <th>0</th>\n",
       "      <td>ABBING, Mr Anthony</td>\n",
       "      <td>Dead</td>\n",
       "      <td>Southampton</td>\n",
       "      <td>3</td>\n",
       "      <td>Man</td>\n",
       "      <td>42.0</td>\n",
       "      <td>Adult</td>\n",
       "      <td>Male</td>\n",
       "      <td>7.55</td>\n",
       "      <td>5547</td>\n",
       "      <td>NaN</td>\n",
       "      <td>Blacksmith</td>\n",
       "      <td>3rd Class Passenger</td>\n",
       "      <td>3</td>\n",
       "    </tr>\n",
       "    <tr>\n",
       "      <th>1</th>\n",
       "      <td>ABBOTT, Mr Ernest Owen</td>\n",
       "      <td>Dead</td>\n",
       "      <td>Southampton</td>\n",
       "      <td>Crew</td>\n",
       "      <td>Man</td>\n",
       "      <td>21.0</td>\n",
       "      <td>Adult</td>\n",
       "      <td>Male</td>\n",
       "      <td>NaN</td>\n",
       "      <td>NaN</td>\n",
       "      <td>NaN</td>\n",
       "      <td>Lounge Pantry Steward</td>\n",
       "      <td>Victualling Crew</td>\n",
       "      <td>V</td>\n",
       "    </tr>\n",
       "    <tr>\n",
       "      <th>2</th>\n",
       "      <td>ABBOTT, Mr Eugene Joseph</td>\n",
       "      <td>Dead</td>\n",
       "      <td>Southampton</td>\n",
       "      <td>3</td>\n",
       "      <td>Child</td>\n",
       "      <td>14.0</td>\n",
       "      <td>Child</td>\n",
       "      <td>Male</td>\n",
       "      <td>20.25</td>\n",
       "      <td>CA2673</td>\n",
       "      <td>NaN</td>\n",
       "      <td>Scholar</td>\n",
       "      <td>3rd Class Passenger</td>\n",
       "      <td>3</td>\n",
       "    </tr>\n",
       "  </tbody>\n",
       "</table>\n",
       "</div>"
      ],
      "text/plain": [
       "                       Name Survived      Boarded Class    MWC   Age  \\\n",
       "0        ABBING, Mr Anthony     Dead  Southampton     3    Man  42.0   \n",
       "1    ABBOTT, Mr Ernest Owen     Dead  Southampton  Crew    Man  21.0   \n",
       "2  ABBOTT, Mr Eugene Joseph     Dead  Southampton     3  Child  14.0   \n",
       "\n",
       "  Adult/Child   Sex   Paid Ticket# Boat [Body]                    Job  \\\n",
       "0       Adult  Male   7.55    5547         NaN             Blacksmith   \n",
       "1       Adult  Male    NaN     NaN         NaN  Lounge Pantry Steward   \n",
       "2       Child  Male  20.25  CA2673         NaN                Scholar   \n",
       "\n",
       "            Class.Dept Class.Full  \n",
       "0  3rd Class Passenger          3  \n",
       "1     Victualling Crew          V  \n",
       "2  3rd Class Passenger          3  "
      ]
     },
     "execution_count": 3,
     "metadata": {},
     "output_type": "execute_result"
    }
   ],
   "source": [
    "df.head(3)"
   ]
  },
  {
   "cell_type": "markdown",
   "metadata": {},
   "source": [
    "# Chances de survie"
   ]
  },
  {
   "cell_type": "markdown",
   "metadata": {},
   "source": [
    "Voici une première manière (compliquée), d'afficher les chances de survie des passagers du Titanic en fonction de leur genre.\n",
    "\n",
    "On crée un nouveau DataFrame qui va contenir les indicateurs à tracer."
   ]
  },
  {
   "cell_type": "code",
   "execution_count": 5,
   "metadata": {
    "collapsed": false
   },
   "outputs": [
    {
     "data": {
      "text/html": [
       "<div>\n",
       "<table border=\"1\" class=\"dataframe\">\n",
       "  <thead>\n",
       "    <tr style=\"text-align: right;\">\n",
       "      <th></th>\n",
       "      <th>MWC</th>\n",
       "      <th>Chances</th>\n",
       "    </tr>\n",
       "  </thead>\n",
       "  <tbody>\n",
       "    <tr>\n",
       "      <th>0</th>\n",
       "      <td>Man</td>\n",
       "      <td>0.175824</td>\n",
       "    </tr>\n",
       "    <tr>\n",
       "      <th>1</th>\n",
       "      <td>Woman</td>\n",
       "      <td>0.781955</td>\n",
       "    </tr>\n",
       "    <tr>\n",
       "      <th>2</th>\n",
       "      <td>Child</td>\n",
       "      <td>0.617647</td>\n",
       "    </tr>\n",
       "  </tbody>\n",
       "</table>\n",
       "</div>"
      ],
      "text/plain": [
       "     MWC   Chances\n",
       "0    Man  0.175824\n",
       "1  Woman  0.781955\n",
       "2  Child  0.617647"
      ]
     },
     "execution_count": 5,
     "metadata": {},
     "output_type": "execute_result"
    }
   ],
   "source": [
    "#import numpy as np\n",
    "#import pandas as pd\n",
    "#import matplotlib.pyplot as plt\n",
    "\n",
    "df2 = pd.DataFrame(columns = ['MWC', 'Chances'])\n",
    "\n",
    "i = 0\n",
    "for elem in ['Man', 'Woman', 'Child']:\n",
    "    nb_sur = sum(np.logical_and(df['Survived'] == 'Alive', df['MWC'] == elem))\n",
    "    pourc_sur = nb_sur / sum(df['MWC'] == elem)\n",
    "    #print(elem, pourc_sur, sep=':')\n",
    "    \n",
    "    df2.loc[i] = [elem, pourc_sur]\n",
    "    \n",
    "    i += 1\n",
    "\n",
    "df2"
   ]
  },
  {
   "cell_type": "code",
   "execution_count": 6,
   "metadata": {
    "collapsed": false
   },
   "outputs": [
    {
     "data": {
      "image/png": "[encoded data removed]",
      "text/plain": [
       "<matplotlib.figure.Figure at 0x2aa0c18fe10>"
      ]
     },
     "metadata": {},
     "output_type": "display_data"
    }
   ],
   "source": [
    "df2.plot(kind = 'bar', x = 'MWC')\n",
    "plt.title('Chances de survies sur le Titanic')\n",
    "plt.xlabel('Genre')\n",
    "plt.show()"
   ]
  },
  {
   "cell_type": "markdown",
   "metadata": {},
   "source": [
    "# Aberrations"
   ]
  },
  {
   "cell_type": "markdown",
   "metadata": {},
   "source": [
    "Au passage, nous n'avons pas analysé les aberrations. Pour ce faire, la fonction describe() est bien pratique."
   ]
  },
  {
   "cell_type": "code",
   "execution_count": 7,
   "metadata": {
    "collapsed": false
   },
   "outputs": [
    {
     "data": {
      "text/html": [
       "<div>\n",
       "<table border=\"1\" class=\"dataframe\">\n",
       "  <thead>\n",
       "    <tr style=\"text-align: right;\">\n",
       "      <th></th>\n",
       "      <th>Age</th>\n",
       "      <th>Paid</th>\n",
       "    </tr>\n",
       "  </thead>\n",
       "  <tbody>\n",
       "    <tr>\n",
       "      <th>count</th>\n",
       "      <td>622.000000</td>\n",
       "      <td>375.000000</td>\n",
       "    </tr>\n",
       "    <tr>\n",
       "      <th>mean</th>\n",
       "      <td>29.949743</td>\n",
       "      <td>36.175089</td>\n",
       "    </tr>\n",
       "    <tr>\n",
       "      <th>std</th>\n",
       "      <td>11.818129</td>\n",
       "      <td>58.046663</td>\n",
       "    </tr>\n",
       "    <tr>\n",
       "      <th>min</th>\n",
       "      <td>0.080000</td>\n",
       "      <td>0.000000</td>\n",
       "    </tr>\n",
       "    <tr>\n",
       "      <th>25%</th>\n",
       "      <td>22.000000</td>\n",
       "      <td>7.910417</td>\n",
       "    </tr>\n",
       "    <tr>\n",
       "      <th>50%</th>\n",
       "      <td>29.000000</td>\n",
       "      <td>15.900000</td>\n",
       "    </tr>\n",
       "    <tr>\n",
       "      <th>75%</th>\n",
       "      <td>37.000000</td>\n",
       "      <td>31.387500</td>\n",
       "    </tr>\n",
       "    <tr>\n",
       "      <th>max</th>\n",
       "      <td>71.000000</td>\n",
       "      <td>512.329167</td>\n",
       "    </tr>\n",
       "  </tbody>\n",
       "</table>\n",
       "</div>"
      ],
      "text/plain": [
       "              Age        Paid\n",
       "count  622.000000  375.000000\n",
       "mean    29.949743   36.175089\n",
       "std     11.818129   58.046663\n",
       "min      0.080000    0.000000\n",
       "25%     22.000000    7.910417\n",
       "50%     29.000000   15.900000\n",
       "75%     37.000000   31.387500\n",
       "max     71.000000  512.329167"
      ]
     },
     "execution_count": 7,
     "metadata": {},
     "output_type": "execute_result"
    }
   ],
   "source": [
    "df.describe()"
   ]
  },
  {
   "cell_type": "markdown",
   "metadata": {},
   "source": [
    "Beaucoup de gens n'ont pas payé leur billet ? Est-ce normal ? Regardons de plus près."
   ]
  },
  {
   "cell_type": "code",
   "execution_count": 8,
   "metadata": {
    "collapsed": false
   },
   "outputs": [
    {
     "data": {
      "text/html": [
       "<div>\n",
       "<table border=\"1\" class=\"dataframe\">\n",
       "  <thead>\n",
       "    <tr style=\"text-align: right;\">\n",
       "      <th></th>\n",
       "      <th>Name</th>\n",
       "      <th>Survived</th>\n",
       "      <th>Boarded</th>\n",
       "      <th>Class</th>\n",
       "      <th>MWC</th>\n",
       "      <th>Age</th>\n",
       "      <th>Adult/Child</th>\n",
       "      <th>Sex</th>\n",
       "      <th>Paid</th>\n",
       "      <th>Ticket#</th>\n",
       "      <th>Boat [Body]</th>\n",
       "      <th>Job</th>\n",
       "      <th>Class.Dept</th>\n",
       "      <th>Class.Full</th>\n",
       "    </tr>\n",
       "  </thead>\n",
       "  <tbody>\n",
       "    <tr>\n",
       "      <th>62</th>\n",
       "      <td>ANDREWS, Mr Thomas</td>\n",
       "      <td>Dead</td>\n",
       "      <td>Belfast</td>\n",
       "      <td>1</td>\n",
       "      <td>Man</td>\n",
       "      <td>39.0</td>\n",
       "      <td>Adult</td>\n",
       "      <td>Male</td>\n",
       "      <td>0.0</td>\n",
       "      <td>112050</td>\n",
       "      <td>NaN</td>\n",
       "      <td>Shipbuilder</td>\n",
       "      <td>1st Class PassengerH&amp;W Guarantee Group</td>\n",
       "      <td>1</td>\n",
       "    </tr>\n",
       "    <tr>\n",
       "      <th>248</th>\n",
       "      <td>BRAILEY, Mr William Theodore Ronald</td>\n",
       "      <td>Dead</td>\n",
       "      <td>Southampton</td>\n",
       "      <td>2</td>\n",
       "      <td>Man</td>\n",
       "      <td>24.0</td>\n",
       "      <td>Adult</td>\n",
       "      <td>Male</td>\n",
       "      <td>0.0</td>\n",
       "      <td>250654</td>\n",
       "      <td>NaN</td>\n",
       "      <td>Musician</td>\n",
       "      <td>2nd Class PassengerMusician</td>\n",
       "      <td>2</td>\n",
       "    </tr>\n",
       "    <tr>\n",
       "      <th>258</th>\n",
       "      <td>BRICOUX, Mr Roger Marie</td>\n",
       "      <td>Dead</td>\n",
       "      <td>Southampton</td>\n",
       "      <td>2</td>\n",
       "      <td>Man</td>\n",
       "      <td>20.0</td>\n",
       "      <td>Adult</td>\n",
       "      <td>Male</td>\n",
       "      <td>0.0</td>\n",
       "      <td>250654</td>\n",
       "      <td>NaN</td>\n",
       "      <td>Musician</td>\n",
       "      <td>2nd Class PassengerMusician</td>\n",
       "      <td>2</td>\n",
       "    </tr>\n",
       "    <tr>\n",
       "      <th>324</th>\n",
       "      <td>CAMPBELL, Mr William Henry</td>\n",
       "      <td>Dead</td>\n",
       "      <td>Belfast</td>\n",
       "      <td>2</td>\n",
       "      <td>Man</td>\n",
       "      <td>21.0</td>\n",
       "      <td>Adult</td>\n",
       "      <td>Male</td>\n",
       "      <td>0.0</td>\n",
       "      <td>239853</td>\n",
       "      <td>NaN</td>\n",
       "      <td>NaN</td>\n",
       "      <td>2nd Class PassengerH&amp;W Guarantee Group</td>\n",
       "      <td>2</td>\n",
       "    </tr>\n",
       "    <tr>\n",
       "      <th>384</th>\n",
       "      <td>CHISHOLM, Mr Roderick Robert Crispin</td>\n",
       "      <td>Dead</td>\n",
       "      <td>Belfast</td>\n",
       "      <td>1</td>\n",
       "      <td>Man</td>\n",
       "      <td>43.0</td>\n",
       "      <td>Adult</td>\n",
       "      <td>Male</td>\n",
       "      <td>0.0</td>\n",
       "      <td>112051</td>\n",
       "      <td>NaN</td>\n",
       "      <td>Draughtsman</td>\n",
       "      <td>1st Class PassengerH&amp;W Guarantee Group</td>\n",
       "      <td>1</td>\n",
       "    </tr>\n",
       "    <tr>\n",
       "      <th>399</th>\n",
       "      <td>CLARKE, Mr John Frederick Preston</td>\n",
       "      <td>Dead</td>\n",
       "      <td>Southampton</td>\n",
       "      <td>2</td>\n",
       "      <td>Man</td>\n",
       "      <td>28.0</td>\n",
       "      <td>Adult</td>\n",
       "      <td>Male</td>\n",
       "      <td>0.0</td>\n",
       "      <td>250654</td>\n",
       "      <td>[202]</td>\n",
       "      <td>Musician</td>\n",
       "      <td>2nd Class PassengerMusician</td>\n",
       "      <td>2</td>\n",
       "    </tr>\n",
       "    <tr>\n",
       "      <th>486</th>\n",
       "      <td>CUNNINGHAM, Mr Alfred Fleming</td>\n",
       "      <td>Dead</td>\n",
       "      <td>Belfast</td>\n",
       "      <td>2</td>\n",
       "      <td>Man</td>\n",
       "      <td>21.0</td>\n",
       "      <td>Adult</td>\n",
       "      <td>Male</td>\n",
       "      <td>0.0</td>\n",
       "      <td>239853</td>\n",
       "      <td>NaN</td>\n",
       "      <td>Fitter</td>\n",
       "      <td>2nd Class PassengerH&amp;W Guarantee Group</td>\n",
       "      <td>2</td>\n",
       "    </tr>\n",
       "  </tbody>\n",
       "</table>\n",
       "</div>"
      ],
      "text/plain": [
       "                                     Name Survived      Boarded Class  MWC  \\\n",
       "62                     ANDREWS, Mr Thomas     Dead      Belfast     1  Man   \n",
       "248   BRAILEY, Mr William Theodore Ronald     Dead  Southampton     2  Man   \n",
       "258               BRICOUX, Mr Roger Marie     Dead  Southampton     2  Man   \n",
       "324            CAMPBELL, Mr William Henry     Dead      Belfast     2  Man   \n",
       "384  CHISHOLM, Mr Roderick Robert Crispin     Dead      Belfast     1  Man   \n",
       "399     CLARKE, Mr John Frederick Preston     Dead  Southampton     2  Man   \n",
       "486         CUNNINGHAM, Mr Alfred Fleming     Dead      Belfast     2  Man   \n",
       "\n",
       "      Age Adult/Child   Sex  Paid Ticket# Boat [Body]          Job  \\\n",
       "62   39.0       Adult  Male   0.0  112050         NaN  Shipbuilder   \n",
       "248  24.0       Adult  Male   0.0  250654         NaN     Musician   \n",
       "258  20.0       Adult  Male   0.0  250654         NaN     Musician   \n",
       "324  21.0       Adult  Male   0.0  239853         NaN          NaN   \n",
       "384  43.0       Adult  Male   0.0  112051         NaN  Draughtsman   \n",
       "399  28.0       Adult  Male   0.0  250654       [202]     Musician   \n",
       "486  21.0       Adult  Male   0.0  239853         NaN       Fitter   \n",
       "\n",
       "                                 Class.Dept Class.Full  \n",
       "62   1st Class PassengerH&W Guarantee Group          1  \n",
       "248             2nd Class PassengerMusician          2  \n",
       "258             2nd Class PassengerMusician          2  \n",
       "324  2nd Class PassengerH&W Guarantee Group          2  \n",
       "384  1st Class PassengerH&W Guarantee Group          1  \n",
       "399             2nd Class PassengerMusician          2  \n",
       "486  2nd Class PassengerH&W Guarantee Group          2  "
      ]
     },
     "execution_count": 8,
     "metadata": {},
     "output_type": "execute_result"
    }
   ],
   "source": [
    "df[df['Paid'] == 0.0]"
   ]
  },
  {
   "cell_type": "markdown",
   "metadata": {},
   "source": [
    "Ils étaient tous plus ou moins employés sur le bâteau. Cela parait plutôt logique. Continuons."
   ]
  },
  {
   "cell_type": "markdown",
   "metadata": {},
   "source": [
    "# Plus d'analyses"
   ]
  },
  {
   "cell_type": "markdown",
   "metadata": {},
   "source": [
    "D'où sont partis les passagers ? Très facile à lire !"
   ]
  },
  {
   "cell_type": "code",
   "execution_count": 11,
   "metadata": {
    "collapsed": false
   },
   "outputs": [
    {
     "data": {
      "text/plain": [
       "Southampton    464\n",
       "Cherbourg       77\n",
       "Belfast         53\n",
       "Queenstown      28\n",
       "Name: Boarded, dtype: int64"
      ]
     },
     "execution_count": 11,
     "metadata": {},
     "output_type": "execute_result"
    }
   ],
   "source": [
    "df['Boarded'].value_counts()"
   ]
  },
  {
   "cell_type": "markdown",
   "metadata": {},
   "source": [
    "Et quel âge avaient les passagers ?"
   ]
  },
  {
   "cell_type": "code",
   "execution_count": 13,
   "metadata": {
    "collapsed": false
   },
   "outputs": [
    {
     "data": {
      "image/png": "[encoded data removed]",
      "text/plain": [
       "<matplotlib.figure.Figure at 0x2aa0c5afb38>"
      ]
     },
     "metadata": {},
     "output_type": "display_data"
    }
   ],
   "source": [
    "import matplotlib.pyplot as plt\n",
    "\n",
    "plt.style.use('ggplot')\n",
    "\n",
    "df['Age'].plot(kind='hist', bins = 20, alpha = 0.5)\n",
    "\n",
    "plt.title('Pyramide des âges')\n",
    "plt.xlabel('Age')\n",
    "plt.ylabel('Fréquence')\n",
    "\n",
    "plt.show()\n",
    "plt.savefig('titanic.png')"
   ]
  },
  {
   "cell_type": "markdown",
   "metadata": {},
   "source": [
    "Revenons sur les chances de survie. Maintenant que l'on connait les groupby(), nous pouvons aller beaucoup plus vite.\n",
    "\n",
    "Mais pour faire ce que nous voulons faire, ce serait pratique de transformer 'Alive' en True et 'Dead' en False. Comme Python est capable de sommer des True et False (alors équivalents à 1 et 0, respectivement), nous pourrons agréger nos mesures."
   ]
  },
  {
   "cell_type": "code",
   "execution_count": 14,
   "metadata": {
    "collapsed": false
   },
   "outputs": [],
   "source": [
    "df['Survived'] = df['Survived'].apply(lambda x: True if x == 'Alive' else False)"
   ]
  },
  {
   "cell_type": "code",
   "execution_count": 15,
   "metadata": {
    "collapsed": false
   },
   "outputs": [
    {
     "data": {
      "image/png": "[encoded data removed]",
      "text/plain": [
       "<matplotlib.figure.Figure at 0x2aa09375748>"
      ]
     },
     "metadata": {},
     "output_type": "display_data"
    }
   ],
   "source": [
    "ax = df.groupby('Class')['Survived'].mean().plot(kind='bar')\n",
    "\n",
    "plt.title(\"Chances de survie des passagers du Titanic\")\n",
    "plt.ylabel(\"Probabilité de survie\")\n",
    "plt.xlabel(\"Classe du passager\")\n",
    "\n",
    "ax.set_ylim([0, 1])\n",
    "\n",
    "plt.show()"
   ]
  }
 ],
 "metadata": {
  "kernelspec": {
   "display_name": "Python 3",
   "language": "python",
   "name": "python3"
  },
  "language_info": {
   "codemirror_mode": {
    "name": "ipython",
    "version": 3
   },
   "file_extension": ".py",
   "mimetype": "text/x-python",
   "name": "python",
   "nbconvert_exporter": "python",
   "pygments_lexer": "ipython3",
   "version": "3.6.0"
  }
 },
 "nbformat": 4,
 "nbformat_minor": 2
}
