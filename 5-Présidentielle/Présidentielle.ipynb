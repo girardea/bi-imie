{
 "cells": [
  {
   "cell_type": "markdown",
   "metadata": {},
   "source": [
    "# Import des modules"
   ]
  },
  {
   "cell_type": "code",
   "execution_count": 2,
   "metadata": {
    "collapsed": true
   },
   "outputs": [],
   "source": [
    "import pandas as pd\n",
    "import numpy as np"
   ]
  },
  {
   "cell_type": "markdown",
   "metadata": {},
   "source": [
    "# Lecture du fichier"
   ]
  },
  {
   "cell_type": "markdown",
   "metadata": {},
   "source": [
    "Attention, le fichier commence par quelques lignes de commentaires."
   ]
  },
  {
   "cell_type": "code",
   "execution_count": 3,
   "metadata": {
    "collapsed": false
   },
   "outputs": [
    {
     "name": "stdout",
     "output_type": "stream",
     "text": [
      "<class 'pandas.core.frame.DataFrame'>\n",
      "RangeIndex: 35719 entries, 0 to 35718\n",
      "Data columns (total 32 columns):\n",
      "Code du département       35719 non-null object\n",
      "Libellé du département    35719 non-null object\n",
      "Code de la commune        35719 non-null int64\n",
      "Libellé de la commune     35719 non-null object\n",
      "Inscrits                  35719 non-null int64\n",
      "Abstentions               35719 non-null int64\n",
      "% Abs/Ins                 35719 non-null float64\n",
      "Votants                   35719 non-null int64\n",
      "% Vot/Ins                 35719 non-null float64\n",
      "Blancs                    35719 non-null int64\n",
      "% Blancs/Ins              35719 non-null float64\n",
      "% Blancs/Vot              35719 non-null float64\n",
      "Nuls                      35719 non-null int64\n",
      "% Nuls/Ins                35719 non-null float64\n",
      "% Nuls/Vot                35719 non-null float64\n",
      "Exprimés                  35719 non-null int64\n",
      "% Exp/Ins                 35719 non-null float64\n",
      "% Exp/Vot                 35719 non-null float64\n",
      "N°Panneau                 35719 non-null int64\n",
      "Sexe                      35719 non-null object\n",
      "Nom                       35719 non-null object\n",
      "Prénom                    35719 non-null object\n",
      "Voix                      35719 non-null int64\n",
      "% Voix/Ins                35719 non-null float64\n",
      "% Voix/Exp                35719 non-null float64\n",
      "N°Panneau.1               35719 non-null int64\n",
      "Sexe.1                    35719 non-null object\n",
      "Nom.1                     35719 non-null object\n",
      "Prénom.1                  35719 non-null object\n",
      "Voix.1                    35719 non-null int64\n",
      "% Voix/Ins.1              35719 non-null float64\n",
      "% Voix/Exp.1              35719 non-null float64\n",
      "dtypes: float64(12), int64(11), object(9)\n",
      "memory usage: 8.7+ MB\n"
     ]
    },
    {
     "data": {
      "text/html": [
       "<div>\n",
       "<table border=\"1\" class=\"dataframe\">\n",
       "  <thead>\n",
       "    <tr style=\"text-align: right;\">\n",
       "      <th></th>\n",
       "      <th>Code du département</th>\n",
       "      <th>Libellé du département</th>\n",
       "      <th>Code de la commune</th>\n",
       "      <th>Libellé de la commune</th>\n",
       "      <th>Inscrits</th>\n",
       "      <th>Abstentions</th>\n",
       "      <th>% Abs/Ins</th>\n",
       "      <th>Votants</th>\n",
       "      <th>% Vot/Ins</th>\n",
       "      <th>Blancs</th>\n",
       "      <th>...</th>\n",
       "      <th>Voix</th>\n",
       "      <th>% Voix/Ins</th>\n",
       "      <th>% Voix/Exp</th>\n",
       "      <th>N°Panneau.1</th>\n",
       "      <th>Sexe.1</th>\n",
       "      <th>Nom.1</th>\n",
       "      <th>Prénom.1</th>\n",
       "      <th>Voix.1</th>\n",
       "      <th>% Voix/Ins.1</th>\n",
       "      <th>% Voix/Exp.1</th>\n",
       "    </tr>\n",
       "  </thead>\n",
       "  <tbody>\n",
       "    <tr>\n",
       "      <th>0</th>\n",
       "      <td>1</td>\n",
       "      <td>Ain</td>\n",
       "      <td>1</td>\n",
       "      <td>L'Abergement-Clémenciat</td>\n",
       "      <td>598</td>\n",
       "      <td>100</td>\n",
       "      <td>16.72</td>\n",
       "      <td>498</td>\n",
       "      <td>83.28</td>\n",
       "      <td>37</td>\n",
       "      <td>...</td>\n",
       "      <td>272</td>\n",
       "      <td>45.48</td>\n",
       "      <td>60.04</td>\n",
       "      <td>2</td>\n",
       "      <td>F</td>\n",
       "      <td>LE PEN</td>\n",
       "      <td>Marine</td>\n",
       "      <td>181</td>\n",
       "      <td>30.27</td>\n",
       "      <td>39.96</td>\n",
       "    </tr>\n",
       "    <tr>\n",
       "      <th>1</th>\n",
       "      <td>1</td>\n",
       "      <td>Ain</td>\n",
       "      <td>2</td>\n",
       "      <td>L'Abergement-de-Varey</td>\n",
       "      <td>209</td>\n",
       "      <td>32</td>\n",
       "      <td>15.31</td>\n",
       "      <td>177</td>\n",
       "      <td>84.69</td>\n",
       "      <td>21</td>\n",
       "      <td>...</td>\n",
       "      <td>93</td>\n",
       "      <td>44.50</td>\n",
       "      <td>62.00</td>\n",
       "      <td>2</td>\n",
       "      <td>F</td>\n",
       "      <td>LE PEN</td>\n",
       "      <td>Marine</td>\n",
       "      <td>57</td>\n",
       "      <td>27.27</td>\n",
       "      <td>38.00</td>\n",
       "    </tr>\n",
       "    <tr>\n",
       "      <th>2</th>\n",
       "      <td>1</td>\n",
       "      <td>Ain</td>\n",
       "      <td>4</td>\n",
       "      <td>Ambérieu-en-Bugey</td>\n",
       "      <td>8586</td>\n",
       "      <td>2312</td>\n",
       "      <td>26.93</td>\n",
       "      <td>6274</td>\n",
       "      <td>73.07</td>\n",
       "      <td>601</td>\n",
       "      <td>...</td>\n",
       "      <td>3213</td>\n",
       "      <td>37.42</td>\n",
       "      <td>58.89</td>\n",
       "      <td>2</td>\n",
       "      <td>F</td>\n",
       "      <td>LE PEN</td>\n",
       "      <td>Marine</td>\n",
       "      <td>2243</td>\n",
       "      <td>26.12</td>\n",
       "      <td>41.11</td>\n",
       "    </tr>\n",
       "    <tr>\n",
       "      <th>3</th>\n",
       "      <td>1</td>\n",
       "      <td>Ain</td>\n",
       "      <td>5</td>\n",
       "      <td>Ambérieux-en-Dombes</td>\n",
       "      <td>1172</td>\n",
       "      <td>259</td>\n",
       "      <td>22.10</td>\n",
       "      <td>913</td>\n",
       "      <td>77.90</td>\n",
       "      <td>77</td>\n",
       "      <td>...</td>\n",
       "      <td>423</td>\n",
       "      <td>36.09</td>\n",
       "      <td>52.09</td>\n",
       "      <td>2</td>\n",
       "      <td>F</td>\n",
       "      <td>LE PEN</td>\n",
       "      <td>Marine</td>\n",
       "      <td>389</td>\n",
       "      <td>33.19</td>\n",
       "      <td>47.91</td>\n",
       "    </tr>\n",
       "    <tr>\n",
       "      <th>4</th>\n",
       "      <td>1</td>\n",
       "      <td>Ain</td>\n",
       "      <td>6</td>\n",
       "      <td>Ambléon</td>\n",
       "      <td>99</td>\n",
       "      <td>23</td>\n",
       "      <td>23.23</td>\n",
       "      <td>76</td>\n",
       "      <td>76.77</td>\n",
       "      <td>17</td>\n",
       "      <td>...</td>\n",
       "      <td>30</td>\n",
       "      <td>30.30</td>\n",
       "      <td>50.85</td>\n",
       "      <td>2</td>\n",
       "      <td>F</td>\n",
       "      <td>LE PEN</td>\n",
       "      <td>Marine</td>\n",
       "      <td>29</td>\n",
       "      <td>29.29</td>\n",
       "      <td>49.15</td>\n",
       "    </tr>\n",
       "  </tbody>\n",
       "</table>\n",
       "<p>5 rows × 32 columns</p>\n",
       "</div>"
      ],
      "text/plain": [
       "  Code du département Libellé du département  Code de la commune  \\\n",
       "0                   1                    Ain                   1   \n",
       "1                   1                    Ain                   2   \n",
       "2                   1                    Ain                   4   \n",
       "3                   1                    Ain                   5   \n",
       "4                   1                    Ain                   6   \n",
       "\n",
       "     Libellé de la commune  Inscrits  Abstentions  % Abs/Ins  Votants  \\\n",
       "0  L'Abergement-Clémenciat       598          100      16.72      498   \n",
       "1    L'Abergement-de-Varey       209           32      15.31      177   \n",
       "2        Ambérieu-en-Bugey      8586         2312      26.93     6274   \n",
       "3      Ambérieux-en-Dombes      1172          259      22.10      913   \n",
       "4                  Ambléon        99           23      23.23       76   \n",
       "\n",
       "   % Vot/Ins  Blancs     ...       Voix  % Voix/Ins  % Voix/Exp  N°Panneau.1  \\\n",
       "0      83.28      37     ...        272       45.48       60.04            2   \n",
       "1      84.69      21     ...         93       44.50       62.00            2   \n",
       "2      73.07     601     ...       3213       37.42       58.89            2   \n",
       "3      77.90      77     ...        423       36.09       52.09            2   \n",
       "4      76.77      17     ...         30       30.30       50.85            2   \n",
       "\n",
       "   Sexe.1   Nom.1  Prénom.1  Voix.1  % Voix/Ins.1 % Voix/Exp.1  \n",
       "0       F  LE PEN    Marine     181         30.27        39.96  \n",
       "1       F  LE PEN    Marine      57         27.27        38.00  \n",
       "2       F  LE PEN    Marine    2243         26.12        41.11  \n",
       "3       F  LE PEN    Marine     389         33.19        47.91  \n",
       "4       F  LE PEN    Marine      29         29.29        49.15  \n",
       "\n",
       "[5 rows x 32 columns]"
      ]
     },
     "execution_count": 3,
     "metadata": {},
     "output_type": "execute_result"
    }
   ],
   "source": [
    "df = pd.read_excel('Presidentielle_2017_Resultats_Communes_Tour_2_c.xls',\n",
    "                  header = 3)\n",
    "\n",
    "df.info()\n",
    "\n",
    "df.head()"
   ]
  },
  {
   "cell_type": "markdown",
   "metadata": {},
   "source": [
    "On sélectionne les colonnes qui nous intéressent et on les renomme pour les rendre plus facilement utilisables."
   ]
  },
  {
   "cell_type": "code",
   "execution_count": 4,
   "metadata": {
    "collapsed": false
   },
   "outputs": [
    {
     "data": {
      "text/html": [
       "<div>\n",
       "<table border=\"1\" class=\"dataframe\">\n",
       "  <thead>\n",
       "    <tr style=\"text-align: right;\">\n",
       "      <th></th>\n",
       "      <th>Code Dept</th>\n",
       "      <th>Département</th>\n",
       "      <th>Commune</th>\n",
       "      <th>Abstentions</th>\n",
       "      <th>Blancs</th>\n",
       "      <th>Nuls</th>\n",
       "      <th>Nom</th>\n",
       "      <th>Macron</th>\n",
       "      <th>Nom.1</th>\n",
       "      <th>Le Pen</th>\n",
       "    </tr>\n",
       "  </thead>\n",
       "  <tbody>\n",
       "    <tr>\n",
       "      <th>0</th>\n",
       "      <td>1</td>\n",
       "      <td>Ain</td>\n",
       "      <td>L'Abergement-Clémenciat</td>\n",
       "      <td>100</td>\n",
       "      <td>37</td>\n",
       "      <td>8</td>\n",
       "      <td>MACRON</td>\n",
       "      <td>272</td>\n",
       "      <td>LE PEN</td>\n",
       "      <td>181</td>\n",
       "    </tr>\n",
       "    <tr>\n",
       "      <th>1</th>\n",
       "      <td>1</td>\n",
       "      <td>Ain</td>\n",
       "      <td>L'Abergement-de-Varey</td>\n",
       "      <td>32</td>\n",
       "      <td>21</td>\n",
       "      <td>6</td>\n",
       "      <td>MACRON</td>\n",
       "      <td>93</td>\n",
       "      <td>LE PEN</td>\n",
       "      <td>57</td>\n",
       "    </tr>\n",
       "    <tr>\n",
       "      <th>2</th>\n",
       "      <td>1</td>\n",
       "      <td>Ain</td>\n",
       "      <td>Ambérieu-en-Bugey</td>\n",
       "      <td>2312</td>\n",
       "      <td>601</td>\n",
       "      <td>217</td>\n",
       "      <td>MACRON</td>\n",
       "      <td>3213</td>\n",
       "      <td>LE PEN</td>\n",
       "      <td>2243</td>\n",
       "    </tr>\n",
       "    <tr>\n",
       "      <th>3</th>\n",
       "      <td>1</td>\n",
       "      <td>Ain</td>\n",
       "      <td>Ambérieux-en-Dombes</td>\n",
       "      <td>259</td>\n",
       "      <td>77</td>\n",
       "      <td>24</td>\n",
       "      <td>MACRON</td>\n",
       "      <td>423</td>\n",
       "      <td>LE PEN</td>\n",
       "      <td>389</td>\n",
       "    </tr>\n",
       "    <tr>\n",
       "      <th>4</th>\n",
       "      <td>1</td>\n",
       "      <td>Ain</td>\n",
       "      <td>Ambléon</td>\n",
       "      <td>23</td>\n",
       "      <td>17</td>\n",
       "      <td>0</td>\n",
       "      <td>MACRON</td>\n",
       "      <td>30</td>\n",
       "      <td>LE PEN</td>\n",
       "      <td>29</td>\n",
       "    </tr>\n",
       "  </tbody>\n",
       "</table>\n",
       "</div>"
      ],
      "text/plain": [
       "  Code Dept Département                  Commune  Abstentions  Blancs  Nuls  \\\n",
       "0         1         Ain  L'Abergement-Clémenciat          100      37     8   \n",
       "1         1         Ain    L'Abergement-de-Varey           32      21     6   \n",
       "2         1         Ain        Ambérieu-en-Bugey         2312     601   217   \n",
       "3         1         Ain      Ambérieux-en-Dombes          259      77    24   \n",
       "4         1         Ain                  Ambléon           23      17     0   \n",
       "\n",
       "      Nom  Macron   Nom.1  Le Pen  \n",
       "0  MACRON     272  LE PEN     181  \n",
       "1  MACRON      93  LE PEN      57  \n",
       "2  MACRON    3213  LE PEN    2243  \n",
       "3  MACRON     423  LE PEN     389  \n",
       "4  MACRON      30  LE PEN      29  "
      ]
     },
     "execution_count": 4,
     "metadata": {},
     "output_type": "execute_result"
    }
   ],
   "source": [
    "df = df[['Code du département', 'Libellé du département', 'Libellé de la commune', 'Abstentions', 'Blancs', 'Nuls', 'Nom', 'Voix', 'Nom.1', 'Voix.1']]\n",
    "df.columns = ['Code Dept', 'Département', 'Commune', 'Abstentions', 'Blancs', 'Nuls', 'Nom', 'Macron', 'Nom.1', 'Le Pen']\n",
    "df.head()"
   ]
  },
  {
   "cell_type": "markdown",
   "metadata": {},
   "source": [
    "On attaque un gros morceau : si on regarder le tableau juste au-dessus, on se rend compte qu'il ne respecte pas la première règle d'un tableau propre à l'exploitation. 1ère règle : une variable par colonne ! Ici nous avons 5 colonnes qui contiennent toutes des nombres de votes !\n",
    "\n",
    "Nous allons remanier ce tableau, en faisant appel à une seule fonction très efficace : pd.melt()."
   ]
  },
  {
   "cell_type": "code",
   "execution_count": 5,
   "metadata": {
    "collapsed": false
   },
   "outputs": [
    {
     "data": {
      "text/html": [
       "<div>\n",
       "<table border=\"1\" class=\"dataframe\">\n",
       "  <thead>\n",
       "    <tr style=\"text-align: right;\">\n",
       "      <th></th>\n",
       "      <th>Code Dept</th>\n",
       "      <th>Département</th>\n",
       "      <th>Commune</th>\n",
       "      <th>Choix de vote</th>\n",
       "      <th>Nombre de voix</th>\n",
       "    </tr>\n",
       "  </thead>\n",
       "  <tbody>\n",
       "    <tr>\n",
       "      <th>0</th>\n",
       "      <td>1</td>\n",
       "      <td>Ain</td>\n",
       "      <td>L'Abergement-Clémenciat</td>\n",
       "      <td>Abstentions</td>\n",
       "      <td>100</td>\n",
       "    </tr>\n",
       "    <tr>\n",
       "      <th>1</th>\n",
       "      <td>1</td>\n",
       "      <td>Ain</td>\n",
       "      <td>L'Abergement-de-Varey</td>\n",
       "      <td>Abstentions</td>\n",
       "      <td>32</td>\n",
       "    </tr>\n",
       "    <tr>\n",
       "      <th>2</th>\n",
       "      <td>1</td>\n",
       "      <td>Ain</td>\n",
       "      <td>Ambérieu-en-Bugey</td>\n",
       "      <td>Abstentions</td>\n",
       "      <td>2312</td>\n",
       "    </tr>\n",
       "    <tr>\n",
       "      <th>3</th>\n",
       "      <td>1</td>\n",
       "      <td>Ain</td>\n",
       "      <td>Ambérieux-en-Dombes</td>\n",
       "      <td>Abstentions</td>\n",
       "      <td>259</td>\n",
       "    </tr>\n",
       "    <tr>\n",
       "      <th>4</th>\n",
       "      <td>1</td>\n",
       "      <td>Ain</td>\n",
       "      <td>Ambléon</td>\n",
       "      <td>Abstentions</td>\n",
       "      <td>23</td>\n",
       "    </tr>\n",
       "  </tbody>\n",
       "</table>\n",
       "</div>"
      ],
      "text/plain": [
       "  Code Dept Département                  Commune Choix de vote  Nombre de voix\n",
       "0         1         Ain  L'Abergement-Clémenciat   Abstentions             100\n",
       "1         1         Ain    L'Abergement-de-Varey   Abstentions              32\n",
       "2         1         Ain        Ambérieu-en-Bugey   Abstentions            2312\n",
       "3         1         Ain      Ambérieux-en-Dombes   Abstentions             259\n",
       "4         1         Ain                  Ambléon   Abstentions              23"
      ]
     },
     "execution_count": 5,
     "metadata": {},
     "output_type": "execute_result"
    }
   ],
   "source": [
    "df_clean = pd.melt(frame = df,\n",
    "                  id_vars = ['Code Dept',\n",
    "                             'Département',\n",
    "                             'Commune'\n",
    "                            ],\n",
    "                  value_vars = ['Abstentions',\n",
    "                                'Blancs',\n",
    "                                'Nuls',\n",
    "                                'Macron',\n",
    "                                'Le Pen'\n",
    "                               ],\n",
    "                   var_name = 'Choix de vote',\n",
    "                   value_name = 'Nombre de voix'\n",
    "                  )\n",
    "\n",
    "df_clean.head()"
   ]
  },
  {
   "cell_type": "markdown",
   "metadata": {},
   "source": [
    "C'est beaucoup plus propre !!\n",
    "\n",
    "Maintenant, les résultats par commune. On se fait une petite fonction toute simple."
   ]
  },
  {
   "cell_type": "code",
   "execution_count": 6,
   "metadata": {
    "collapsed": true
   },
   "outputs": [],
   "source": [
    "def resultats_commune(nom_commune):\n",
    "    \n",
    "    c_commune = df_clean['Commune'] == nom_commune\n",
    "    \n",
    "    for candidat in ['Macron', 'Le Pen']:\n",
    "        res = df_clean[np.logical_and(c_commune,\n",
    "                                      df_clean['Choix de vote'] == candidat)\n",
    "                      ]['Nombre de voix'].mean()\n",
    "        print(candidat, res)\n",
    "\n",
    "    return"
   ]
  },
  {
   "cell_type": "code",
   "execution_count": 7,
   "metadata": {
    "collapsed": false
   },
   "outputs": [
    {
     "name": "stdout",
     "output_type": "stream",
     "text": [
      "Macron 79.0\n",
      "Le Pen 79.0\n"
     ]
    }
   ],
   "source": [
    "resultats_commune('Ramasse')"
   ]
  },
  {
   "cell_type": "markdown",
   "metadata": {},
   "source": [
    "Dans combien de villes Marine Le Pen est-elle arrivée devant Emmanuel Macron ?"
   ]
  },
  {
   "cell_type": "code",
   "execution_count": 8,
   "metadata": {
    "collapsed": false
   },
   "outputs": [
    {
     "data": {
      "text/plain": [
       "25.725804193846411"
      ]
     },
     "execution_count": 8,
     "metadata": {},
     "output_type": "execute_result"
    }
   ],
   "source": [
    "100 * (df['Le Pen'] > df['Macron']).sum() / df.shape[0]"
   ]
  },
  {
   "cell_type": "markdown",
   "metadata": {},
   "source": [
    "# Graphiques"
   ]
  },
  {
   "cell_type": "markdown",
   "metadata": {},
   "source": [
    "Maintenant, les résultats par département et pour tous les choix de vote !"
   ]
  },
  {
   "cell_type": "code",
   "execution_count": 9,
   "metadata": {
    "collapsed": false
   },
   "outputs": [
    {
     "data": {
      "image/png": "[encoded data removed]",
      "text/plain": [
       "<matplotlib.figure.Figure at 0x22da16315f8>"
      ]
     },
     "metadata": {},
     "output_type": "display_data"
    }
   ],
   "source": [
    "import matplotlib.pyplot as plt\n",
    "\n",
    "df_clean.groupby(['Département', 'Choix de vote']) \\\n",
    "    .sum()['Nombre de voix'] \\\n",
    "    .sort_values() \\\n",
    "    .unstack('Choix de vote'). \\\n",
    "    plot(kind = 'barh',\n",
    "         stacked = True,\n",
    "         figsize = (8, 20))\n",
    "\n",
    "plt.show()"
   ]
  },
  {
   "cell_type": "code",
   "execution_count": null,
   "metadata": {
    "collapsed": true
   },
   "outputs": [],
   "source": []
  }
 ],
 "metadata": {
  "kernelspec": {
   "display_name": "Python 3",
   "language": "python",
   "name": "python3"
  },
  "language_info": {
   "codemirror_mode": {
    "name": "ipython",
    "version": 3
   },
   "file_extension": ".py",
   "mimetype": "text/x-python",
   "name": "python",
   "nbconvert_exporter": "python",
   "pygments_lexer": "ipython3",
   "version": "3.6.0"
  }
 },
 "nbformat": 4,
 "nbformat_minor": 2
}
