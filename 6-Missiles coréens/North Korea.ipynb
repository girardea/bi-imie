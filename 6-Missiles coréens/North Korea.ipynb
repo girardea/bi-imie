{
 "cells": [
  {
   "cell_type": "code",
   "execution_count": 2,
   "metadata": {
    "collapsed": false
   },
   "outputs": [],
   "source": [
    "import pandas as pd\n",
    "import numpy as np\n",
    "import datetime as dt\n",
    "import matplotlib.pyplot as plt"
   ]
  },
  {
   "cell_type": "code",
   "execution_count": 6,
   "metadata": {
    "collapsed": false
   },
   "outputs": [
    {
     "name": "stdout",
     "output_type": "stream",
     "text": [
      "<class 'pandas.core.frame.DataFrame'>\n",
      "Int64Index: 106 entries, 1 to 106\n",
      "Data columns (total 17 columns):\n",
      "Date                       106 non-null datetime64[ns]\n",
      "Date Entered/Updated       106 non-null datetime64[ns]\n",
      "Missile Name               103 non-null object\n",
      "Missile Type               103 non-null object\n",
      "Launch Agency/Authority    10 non-null object\n",
      "Facility Name              105 non-null object\n",
      "Facility Location          105 non-null object\n",
      "Other Name                 61 non-null object\n",
      "Facility Latitude          105 non-null float64\n",
      "Facility Longitude         105 non-null float64\n",
      "Landing Location           79 non-null object\n",
      "Apogee (km)                45 non-null float64\n",
      "Distance Travelled (km)    33 non-null float64\n",
      "Confirmation Status        106 non-null object\n",
      "Success                    104 non-null object\n",
      "Additional Information     61 non-null object\n",
      "Source(s)                  106 non-null object\n",
      "dtypes: datetime64[ns](2), float64(4), object(11)\n",
      "memory usage: 14.9+ KB\n"
     ]
    },
    {
     "data": {
      "text/html": [
       "<div>\n",
       "<table border=\"1\" class=\"dataframe\">\n",
       "  <thead>\n",
       "    <tr style=\"text-align: right;\">\n",
       "      <th></th>\n",
       "      <th>Date</th>\n",
       "      <th>Date Entered/Updated</th>\n",
       "      <th>Missile Name</th>\n",
       "      <th>Missile Type</th>\n",
       "      <th>Launch Agency/Authority</th>\n",
       "      <th>Facility Name</th>\n",
       "      <th>Facility Location</th>\n",
       "      <th>Other Name</th>\n",
       "      <th>Facility Latitude</th>\n",
       "      <th>Facility Longitude</th>\n",
       "      <th>Landing Location</th>\n",
       "      <th>Apogee (km)</th>\n",
       "      <th>Distance Travelled (km)</th>\n",
       "      <th>Confirmation Status</th>\n",
       "      <th>Success</th>\n",
       "      <th>Additional Information</th>\n",
       "      <th>Source(s)</th>\n",
       "    </tr>\n",
       "    <tr>\n",
       "      <th>F1</th>\n",
       "      <th></th>\n",
       "      <th></th>\n",
       "      <th></th>\n",
       "      <th></th>\n",
       "      <th></th>\n",
       "      <th></th>\n",
       "      <th></th>\n",
       "      <th></th>\n",
       "      <th></th>\n",
       "      <th></th>\n",
       "      <th></th>\n",
       "      <th></th>\n",
       "      <th></th>\n",
       "      <th></th>\n",
       "      <th></th>\n",
       "      <th></th>\n",
       "      <th></th>\n",
       "    </tr>\n",
       "  </thead>\n",
       "  <tbody>\n",
       "    <tr>\n",
       "      <th>1</th>\n",
       "      <td>1984-04-09</td>\n",
       "      <td>2016-12-23</td>\n",
       "      <td>Scud-B</td>\n",
       "      <td>SRBM</td>\n",
       "      <td>NaN</td>\n",
       "      <td>Tonghae Satellite Launching Ground</td>\n",
       "      <td>Hwadae County, North Hamgyong Province</td>\n",
       "      <td>Musudan-ri</td>\n",
       "      <td>40.849997</td>\n",
       "      <td>129.666664</td>\n",
       "      <td>NaN</td>\n",
       "      <td>NaN</td>\n",
       "      <td>NaN</td>\n",
       "      <td>Confirmed</td>\n",
       "      <td>Success</td>\n",
       "      <td>The 1984 tests possibly took place over the co...</td>\n",
       "      <td>http://www.nti.org/media/pdfs/north_korea_miss...</td>\n",
       "    </tr>\n",
       "    <tr>\n",
       "      <th>2</th>\n",
       "      <td>1984-04-09</td>\n",
       "      <td>2016-12-23</td>\n",
       "      <td>Scud-B</td>\n",
       "      <td>SRBM</td>\n",
       "      <td>NaN</td>\n",
       "      <td>Tonghae Satellite Launching Ground</td>\n",
       "      <td>Hwadae County, North Hamgyong Province</td>\n",
       "      <td>Musudan-ri</td>\n",
       "      <td>40.849997</td>\n",
       "      <td>129.666664</td>\n",
       "      <td>NaN</td>\n",
       "      <td>NaN</td>\n",
       "      <td>NaN</td>\n",
       "      <td>Confirmed</td>\n",
       "      <td>Success</td>\n",
       "      <td>NaN</td>\n",
       "      <td>http://www.nti.org/media/pdfs/north_korea_miss...</td>\n",
       "    </tr>\n",
       "    <tr>\n",
       "      <th>3</th>\n",
       "      <td>1984-04-09</td>\n",
       "      <td>2016-12-23</td>\n",
       "      <td>Scud-B</td>\n",
       "      <td>SRBM</td>\n",
       "      <td>NaN</td>\n",
       "      <td>Tonghae Satellite Launching Ground</td>\n",
       "      <td>Hwadae County, North Hamgyong Province</td>\n",
       "      <td>Musudan-ri</td>\n",
       "      <td>40.849997</td>\n",
       "      <td>129.666664</td>\n",
       "      <td>NaN</td>\n",
       "      <td>200.0</td>\n",
       "      <td>NaN</td>\n",
       "      <td>Confirmed</td>\n",
       "      <td>Success</td>\n",
       "      <td>NaN</td>\n",
       "      <td>http://www.astronautix.com/g/gitdaeryung.html;...</td>\n",
       "    </tr>\n",
       "    <tr>\n",
       "      <th>4</th>\n",
       "      <td>1984-09-01</td>\n",
       "      <td>2016-12-23</td>\n",
       "      <td>Scud-B</td>\n",
       "      <td>SRBM</td>\n",
       "      <td>NaN</td>\n",
       "      <td>Tonghae Satellite Launching Ground</td>\n",
       "      <td>Hwadae County, North Hamgyong Province</td>\n",
       "      <td>Musudan-ri</td>\n",
       "      <td>40.849997</td>\n",
       "      <td>129.666664</td>\n",
       "      <td>NaN</td>\n",
       "      <td>NaN</td>\n",
       "      <td>NaN</td>\n",
       "      <td>Confirmed</td>\n",
       "      <td>Failure</td>\n",
       "      <td>NaN</td>\n",
       "      <td>Joseph S. Bermudez, \"A History of Ballistic Mi...</td>\n",
       "    </tr>\n",
       "    <tr>\n",
       "      <th>5</th>\n",
       "      <td>1984-09-01</td>\n",
       "      <td>2016-12-23</td>\n",
       "      <td>Scud-B</td>\n",
       "      <td>SRBM</td>\n",
       "      <td>NaN</td>\n",
       "      <td>Tonghae Satellite Launching Ground</td>\n",
       "      <td>Hwadae County, North Hamgyong Province</td>\n",
       "      <td>Musudan-ri</td>\n",
       "      <td>40.849997</td>\n",
       "      <td>129.666664</td>\n",
       "      <td>NaN</td>\n",
       "      <td>200.0</td>\n",
       "      <td>NaN</td>\n",
       "      <td>Confirmed</td>\n",
       "      <td>Failure</td>\n",
       "      <td>NaN</td>\n",
       "      <td>http://www.astronautix.com/g/gitdaeryung.html;...</td>\n",
       "    </tr>\n",
       "  </tbody>\n",
       "</table>\n",
       "</div>"
      ],
      "text/plain": [
       "         Date Date Entered/Updated Missile Name Missile Type  \\\n",
       "F1                                                             \n",
       "1  1984-04-09           2016-12-23       Scud-B         SRBM   \n",
       "2  1984-04-09           2016-12-23       Scud-B         SRBM   \n",
       "3  1984-04-09           2016-12-23       Scud-B         SRBM   \n",
       "4  1984-09-01           2016-12-23       Scud-B         SRBM   \n",
       "5  1984-09-01           2016-12-23       Scud-B         SRBM   \n",
       "\n",
       "   Launch Agency/Authority                       Facility Name  \\\n",
       "F1                                                               \n",
       "1                      NaN  Tonghae Satellite Launching Ground   \n",
       "2                      NaN  Tonghae Satellite Launching Ground   \n",
       "3                      NaN  Tonghae Satellite Launching Ground   \n",
       "4                      NaN  Tonghae Satellite Launching Ground   \n",
       "5                      NaN  Tonghae Satellite Launching Ground   \n",
       "\n",
       "                         Facility Location  Other Name  Facility Latitude  \\\n",
       "F1                                                                          \n",
       "1   Hwadae County, North Hamgyong Province  Musudan-ri          40.849997   \n",
       "2   Hwadae County, North Hamgyong Province  Musudan-ri          40.849997   \n",
       "3   Hwadae County, North Hamgyong Province  Musudan-ri          40.849997   \n",
       "4   Hwadae County, North Hamgyong Province  Musudan-ri          40.849997   \n",
       "5   Hwadae County, North Hamgyong Province  Musudan-ri          40.849997   \n",
       "\n",
       "    Facility Longitude Landing Location  Apogee (km)  Distance Travelled (km)  \\\n",
       "F1                                                                              \n",
       "1           129.666664              NaN          NaN                      NaN   \n",
       "2           129.666664              NaN          NaN                      NaN   \n",
       "3           129.666664              NaN        200.0                      NaN   \n",
       "4           129.666664              NaN          NaN                      NaN   \n",
       "5           129.666664              NaN        200.0                      NaN   \n",
       "\n",
       "   Confirmation Status  Success  \\\n",
       "F1                                \n",
       "1            Confirmed  Success   \n",
       "2            Confirmed  Success   \n",
       "3            Confirmed  Success   \n",
       "4            Confirmed  Failure   \n",
       "5            Confirmed  Failure   \n",
       "\n",
       "                               Additional Information  \\\n",
       "F1                                                      \n",
       "1   The 1984 tests possibly took place over the co...   \n",
       "2                                                 NaN   \n",
       "3                                                 NaN   \n",
       "4                                                 NaN   \n",
       "5                                                 NaN   \n",
       "\n",
       "                                            Source(s)  \n",
       "F1                                                     \n",
       "1   http://www.nti.org/media/pdfs/north_korea_miss...  \n",
       "2   http://www.nti.org/media/pdfs/north_korea_miss...  \n",
       "3   http://www.astronautix.com/g/gitdaeryung.html;...  \n",
       "4   Joseph S. Bermudez, \"A History of Ballistic Mi...  \n",
       "5   http://www.astronautix.com/g/gitdaeryung.html;...  "
      ]
     },
     "execution_count": 6,
     "metadata": {},
     "output_type": "execute_result"
    }
   ],
   "source": [
    "df = pd.read_excel('north_korea_missile_tests_database_050217.xlsx',\n",
    "                  index_col = 'F1',\n",
    "                  na_values = 'Unknown')\n",
    "\n",
    "df.info()\n",
    "\n",
    "df.head()"
   ]
  },
  {
   "cell_type": "code",
   "execution_count": 28,
   "metadata": {
    "collapsed": false
   },
   "outputs": [
    {
     "data": {
      "image/png": "[encoded data removed]",
      "text/plain": [
       "<matplotlib.figure.Figure at 0x207d1ab4320>"
      ]
     },
     "metadata": {},
     "output_type": "display_data"
    }
   ],
   "source": [
    "df['Date'].dt.year.value_counts().sort_index().plot(kind=\"bar\")\n",
    "\n",
    "plt.title('North Korean missile tests from 1984 to 2017')\n",
    "plt.ylabel('# Missile tests')\n",
    "\n",
    "plt.show()"
   ]
  },
  {
   "cell_type": "code",
   "execution_count": 65,
   "metadata": {
    "collapsed": false
   },
   "outputs": [
    {
     "data": {
      "image/png": "[encoded data removed]",
      "text/plain": [
       "<matplotlib.figure.Figure at 0x207d21ffd30>"
      ]
     },
     "metadata": {},
     "output_type": "display_data"
    }
   ],
   "source": [
    "df['Year'] = df['Date'].dt.year\n",
    "\n",
    "df2 = pd.DataFrame(index = range(1984, 2018))\n",
    "df2['Success'] = df[df['Success'] == 'Success'].groupby('Year')['Success'].count()\n",
    "df2['Failure'] = df[df['Success'] == 'Failure'].groupby('Year')['Success'].count()\n",
    "\n",
    "df2.plot(kind='bar', stacked=True)\n",
    "\n",
    "plt.title('North Korean missile tests from 1984 to 2017')\n",
    "plt.ylabel('# Missile tests')\n",
    "\n",
    "plt.show()"
   ]
  },
  {
   "cell_type": "code",
   "execution_count": 64,
   "metadata": {
    "collapsed": false
   },
   "outputs": [
    {
     "data": {
      "image/png": "[encoded data removed]",
      "text/plain": [
       "<matplotlib.figure.Figure at 0x207d20f2dd8>"
      ]
     },
     "metadata": {},
     "output_type": "display_data"
    }
   ],
   "source": [
    "df.groupby('Year')['Distance Travelled (km)'].sum().plot(kind = 'line', style = 'xk')\n",
    "\n",
    "plt.title('Distance travelled by North Korean test missiles')\n",
    "plt.ylabel('Distance (km)')\n",
    "\n",
    "plt.show()"
   ]
  },
  {
   "cell_type": "code",
   "execution_count": null,
   "metadata": {
    "collapsed": true
   },
   "outputs": [],
   "source": []
  }
 ],
 "metadata": {
  "kernelspec": {
   "display_name": "Python 3",
   "language": "python",
   "name": "python3"
  },
  "language_info": {
   "codemirror_mode": {
    "name": "ipython",
    "version": 3
   },
   "file_extension": ".py",
   "mimetype": "text/x-python",
   "name": "python",
   "nbconvert_exporter": "python",
   "pygments_lexer": "ipython3",
   "version": "3.6.0"
  }
 },
 "nbformat": 4,
 "nbformat_minor": 2
}
